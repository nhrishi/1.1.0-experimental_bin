{
  "nbformat": 4,
  "nbformat_minor": 0,
  "metadata": {
    "colab": {
      "provenance": [],
      "include_colab_link": true
    },
    "kernelspec": {
      "name": "python3",
      "display_name": "Python 3"
    },
    "language_info": {
      "name": "python"
    }
  },
  "cells": [
    {
      "cell_type": "markdown",
      "metadata": {
        "id": "view-in-github",
        "colab_type": "text"
      },
      "source": [
        "<a href=\"https://colab.research.google.com/github/nhrishi/1.1.0-experimental_bin/blob/master/TradingIntel_v0_5_retraining.ipynb\" target=\"_parent\"><img src=\"https://colab.research.google.com/assets/colab-badge.svg\" alt=\"Open In Colab\"/></a>"
      ]
    },
    {
      "cell_type": "code",
      "source": [
        "!pip install pandas_ta\n",
        "!pip install fyers_apiv3"
      ],
      "metadata": {
        "colab": {
          "base_uri": "https://localhost:8080/",
          "height": 1000
        },
        "id": "CC5uu6uQDHA4",
        "outputId": "ecac1a7b-79e3-400b-a42d-9a71b45108de"
      },
      "execution_count": 1,
      "outputs": [
        {
          "output_type": "stream",
          "name": "stdout",
          "text": [
            "Collecting pandas_ta\n",
            "  Downloading pandas_ta-0.3.14b.tar.gz (115 kB)\n",
            "\u001b[?25l     \u001b[90m━━━━━━━━━━━━━━━━━━━━━━━━━━━━━━━━━━━━━━━━\u001b[0m \u001b[32m0.0/115.1 kB\u001b[0m \u001b[31m?\u001b[0m eta \u001b[36m-:--:--\u001b[0m\r\u001b[2K     \u001b[90m━━━━━━━━━━━━━━━━━━━━━━━━━━━━━━━━━━━━━━━━\u001b[0m \u001b[32m115.1/115.1 kB\u001b[0m \u001b[31m2.2 MB/s\u001b[0m eta \u001b[36m0:00:00\u001b[0m\n",
            "\u001b[?25h  Preparing metadata (setup.py) ... \u001b[?25l\u001b[?25hdone\n",
            "Requirement already satisfied: pandas in /usr/local/lib/python3.11/dist-packages (from pandas_ta) (2.2.2)\n",
            "Requirement already satisfied: numpy>=1.23.2 in /usr/local/lib/python3.11/dist-packages (from pandas->pandas_ta) (1.26.4)\n",
            "Requirement already satisfied: python-dateutil>=2.8.2 in /usr/local/lib/python3.11/dist-packages (from pandas->pandas_ta) (2.8.2)\n",
            "Requirement already satisfied: pytz>=2020.1 in /usr/local/lib/python3.11/dist-packages (from pandas->pandas_ta) (2024.2)\n",
            "Requirement already satisfied: tzdata>=2022.7 in /usr/local/lib/python3.11/dist-packages (from pandas->pandas_ta) (2025.1)\n",
            "Requirement already satisfied: six>=1.5 in /usr/local/lib/python3.11/dist-packages (from python-dateutil>=2.8.2->pandas->pandas_ta) (1.17.0)\n",
            "Building wheels for collected packages: pandas_ta\n",
            "  Building wheel for pandas_ta (setup.py) ... \u001b[?25l\u001b[?25hdone\n",
            "  Created wheel for pandas_ta: filename=pandas_ta-0.3.14b0-py3-none-any.whl size=218909 sha256=c6f5eb5e20a67559adb10118ee5a7583145bce7e797e0bcfdcf6204b79397c39\n",
            "  Stored in directory: /root/.cache/pip/wheels/7f/33/8b/50b245c5c65433cd8f5cb24ac15d97e5a3db2d41a8b6ae957d\n",
            "Successfully built pandas_ta\n",
            "Installing collected packages: pandas_ta\n",
            "Successfully installed pandas_ta-0.3.14b0\n",
            "Collecting fyers_apiv3\n",
            "  Downloading fyers_apiv3-3.1.5-py3-none-any.whl.metadata (16 kB)\n",
            "Collecting requests==2.31.0 (from fyers_apiv3)\n",
            "  Downloading requests-2.31.0-py3-none-any.whl.metadata (4.6 kB)\n",
            "Collecting asyncio==3.4.3 (from fyers_apiv3)\n",
            "  Downloading asyncio-3.4.3-py3-none-any.whl.metadata (1.7 kB)\n",
            "Collecting aiohttp==3.9.3 (from fyers_apiv3)\n",
            "  Downloading aiohttp-3.9.3-cp311-cp311-manylinux_2_17_x86_64.manylinux2014_x86_64.whl.metadata (7.4 kB)\n",
            "Collecting aws_lambda_powertools==1.25.5 (from fyers_apiv3)\n",
            "  Downloading aws_lambda_powertools-1.25.5-py3-none-any.whl.metadata (6.8 kB)\n",
            "Collecting websocket-client==1.6.1 (from fyers_apiv3)\n",
            "  Downloading websocket_client-1.6.1-py3-none-any.whl.metadata (7.6 kB)\n",
            "Requirement already satisfied: aiosignal>=1.1.2 in /usr/local/lib/python3.11/dist-packages (from aiohttp==3.9.3->fyers_apiv3) (1.3.2)\n",
            "Requirement already satisfied: attrs>=17.3.0 in /usr/local/lib/python3.11/dist-packages (from aiohttp==3.9.3->fyers_apiv3) (25.1.0)\n",
            "Requirement already satisfied: frozenlist>=1.1.1 in /usr/local/lib/python3.11/dist-packages (from aiohttp==3.9.3->fyers_apiv3) (1.5.0)\n",
            "Requirement already satisfied: multidict<7.0,>=4.5 in /usr/local/lib/python3.11/dist-packages (from aiohttp==3.9.3->fyers_apiv3) (6.1.0)\n",
            "Requirement already satisfied: yarl<2.0,>=1.0 in /usr/local/lib/python3.11/dist-packages (from aiohttp==3.9.3->fyers_apiv3) (1.18.3)\n",
            "Collecting aws-xray-sdk<3.0.0,>=2.8.0 (from aws_lambda_powertools==1.25.5->fyers_apiv3)\n",
            "  Downloading aws_xray_sdk-2.14.0-py2.py3-none-any.whl.metadata (22 kB)\n",
            "Collecting boto3<2.0,>=1.18 (from aws_lambda_powertools==1.25.5->fyers_apiv3)\n",
            "  Downloading boto3-1.36.11-py3-none-any.whl.metadata (6.7 kB)\n",
            "Requirement already satisfied: fastjsonschema<3.0.0,>=2.14.5 in /usr/local/lib/python3.11/dist-packages (from aws_lambda_powertools==1.25.5->fyers_apiv3) (2.21.1)\n",
            "Collecting jmespath<0.11.0,>=0.10.0 (from aws_lambda_powertools==1.25.5->fyers_apiv3)\n",
            "  Downloading jmespath-0.10.0-py2.py3-none-any.whl.metadata (8.0 kB)\n",
            "Requirement already satisfied: charset-normalizer<4,>=2 in /usr/local/lib/python3.11/dist-packages (from requests==2.31.0->fyers_apiv3) (3.4.1)\n",
            "Requirement already satisfied: idna<4,>=2.5 in /usr/local/lib/python3.11/dist-packages (from requests==2.31.0->fyers_apiv3) (3.10)\n",
            "Requirement already satisfied: urllib3<3,>=1.21.1 in /usr/local/lib/python3.11/dist-packages (from requests==2.31.0->fyers_apiv3) (2.3.0)\n",
            "Requirement already satisfied: certifi>=2017.4.17 in /usr/local/lib/python3.11/dist-packages (from requests==2.31.0->fyers_apiv3) (2024.12.14)\n",
            "Requirement already satisfied: wrapt in /usr/local/lib/python3.11/dist-packages (from aws-xray-sdk<3.0.0,>=2.8.0->aws_lambda_powertools==1.25.5->fyers_apiv3) (1.17.2)\n",
            "Collecting botocore>=1.11.3 (from aws-xray-sdk<3.0.0,>=2.8.0->aws_lambda_powertools==1.25.5->fyers_apiv3)\n",
            "  Downloading botocore-1.36.11-py3-none-any.whl.metadata (5.7 kB)\n",
            "Collecting s3transfer<0.12.0,>=0.11.0 (from boto3<2.0,>=1.18->aws_lambda_powertools==1.25.5->fyers_apiv3)\n",
            "  Downloading s3transfer-0.11.2-py3-none-any.whl.metadata (1.7 kB)\n",
            "Requirement already satisfied: propcache>=0.2.0 in /usr/local/lib/python3.11/dist-packages (from yarl<2.0,>=1.0->aiohttp==3.9.3->fyers_apiv3) (0.2.1)\n",
            "Requirement already satisfied: python-dateutil<3.0.0,>=2.1 in /usr/local/lib/python3.11/dist-packages (from botocore>=1.11.3->aws-xray-sdk<3.0.0,>=2.8.0->aws_lambda_powertools==1.25.5->fyers_apiv3) (2.8.2)\n",
            "Requirement already satisfied: six>=1.5 in /usr/local/lib/python3.11/dist-packages (from python-dateutil<3.0.0,>=2.1->botocore>=1.11.3->aws-xray-sdk<3.0.0,>=2.8.0->aws_lambda_powertools==1.25.5->fyers_apiv3) (1.17.0)\n",
            "Downloading fyers_apiv3-3.1.5-py3-none-any.whl (31 kB)\n",
            "Downloading aiohttp-3.9.3-cp311-cp311-manylinux_2_17_x86_64.manylinux2014_x86_64.whl (1.3 MB)\n",
            "\u001b[2K   \u001b[90m━━━━━━━━━━━━━━━━━━━━━━━━━━━━━━━━━━━━━━━━\u001b[0m \u001b[32m1.3/1.3 MB\u001b[0m \u001b[31m17.2 MB/s\u001b[0m eta \u001b[36m0:00:00\u001b[0m\n",
            "\u001b[?25hDownloading asyncio-3.4.3-py3-none-any.whl (101 kB)\n",
            "\u001b[2K   \u001b[90m━━━━━━━━━━━━━━━━━━━━━━━━━━━━━━━━━━━━━━━━\u001b[0m \u001b[32m101.8/101.8 kB\u001b[0m \u001b[31m7.5 MB/s\u001b[0m eta \u001b[36m0:00:00\u001b[0m\n",
            "\u001b[?25hDownloading aws_lambda_powertools-1.25.5-py3-none-any.whl (171 kB)\n",
            "\u001b[2K   \u001b[90m━━━━━━━━━━━━━━━━━━━━━━━━━━━━━━━━━━━━━━━━\u001b[0m \u001b[32m171.8/171.8 kB\u001b[0m \u001b[31m12.6 MB/s\u001b[0m eta \u001b[36m0:00:00\u001b[0m\n",
            "\u001b[?25hDownloading requests-2.31.0-py3-none-any.whl (62 kB)\n",
            "\u001b[2K   \u001b[90m━━━━━━━━━━━━━━━━━━━━━━━━━━━━━━━━━━━━━━━━\u001b[0m \u001b[32m62.6/62.6 kB\u001b[0m \u001b[31m4.7 MB/s\u001b[0m eta \u001b[36m0:00:00\u001b[0m\n",
            "\u001b[?25hDownloading websocket_client-1.6.1-py3-none-any.whl (56 kB)\n",
            "\u001b[2K   \u001b[90m━━━━━━━━━━━━━━━━━━━━━━━━━━━━━━━━━━━━━━━━\u001b[0m \u001b[32m56.9/56.9 kB\u001b[0m \u001b[31m3.8 MB/s\u001b[0m eta \u001b[36m0:00:00\u001b[0m\n",
            "\u001b[?25hDownloading aws_xray_sdk-2.14.0-py2.py3-none-any.whl (101 kB)\n",
            "\u001b[2K   \u001b[90m━━━━━━━━━━━━━━━━━━━━━━━━━━━━━━━━━━━━━━━━\u001b[0m \u001b[32m101.9/101.9 kB\u001b[0m \u001b[31m8.3 MB/s\u001b[0m eta \u001b[36m0:00:00\u001b[0m\n",
            "\u001b[?25hDownloading boto3-1.36.11-py3-none-any.whl (139 kB)\n",
            "\u001b[2K   \u001b[90m━━━━━━━━━━━━━━━━━━━━━━━━━━━━━━━━━━━━━━━━\u001b[0m \u001b[32m139.2/139.2 kB\u001b[0m \u001b[31m10.2 MB/s\u001b[0m eta \u001b[36m0:00:00\u001b[0m\n",
            "\u001b[?25hDownloading jmespath-0.10.0-py2.py3-none-any.whl (24 kB)\n",
            "Downloading botocore-1.36.11-py3-none-any.whl (13.3 MB)\n",
            "\u001b[2K   \u001b[90m━━━━━━━━━━━━━━━━━━━━━━━━━━━━━━━━━━━━━━━━\u001b[0m \u001b[32m13.3/13.3 MB\u001b[0m \u001b[31m38.3 MB/s\u001b[0m eta \u001b[36m0:00:00\u001b[0m\n",
            "\u001b[?25hDownloading s3transfer-0.11.2-py3-none-any.whl (84 kB)\n",
            "\u001b[2K   \u001b[90m━━━━━━━━━━━━━━━━━━━━━━━━━━━━━━━━━━━━━━━━\u001b[0m \u001b[32m84.2/84.2 kB\u001b[0m \u001b[31m6.8 MB/s\u001b[0m eta \u001b[36m0:00:00\u001b[0m\n",
            "\u001b[?25hInstalling collected packages: asyncio, websocket-client, requests, jmespath, botocore, aiohttp, s3transfer, aws-xray-sdk, boto3, aws_lambda_powertools, fyers_apiv3\n",
            "  Attempting uninstall: websocket-client\n",
            "    Found existing installation: websocket-client 1.8.0\n",
            "    Uninstalling websocket-client-1.8.0:\n",
            "      Successfully uninstalled websocket-client-1.8.0\n",
            "  Attempting uninstall: requests\n",
            "    Found existing installation: requests 2.32.3\n",
            "    Uninstalling requests-2.32.3:\n",
            "      Successfully uninstalled requests-2.32.3\n",
            "  Attempting uninstall: aiohttp\n",
            "    Found existing installation: aiohttp 3.11.11\n",
            "    Uninstalling aiohttp-3.11.11:\n",
            "      Successfully uninstalled aiohttp-3.11.11\n",
            "\u001b[31mERROR: pip's dependency resolver does not currently take into account all the packages that are installed. This behaviour is the source of the following dependency conflicts.\n",
            "google-colab 1.0.0 requires requests==2.32.3, but you have requests 2.31.0 which is incompatible.\u001b[0m\u001b[31m\n",
            "\u001b[0mSuccessfully installed aiohttp-3.9.3 asyncio-3.4.3 aws-xray-sdk-2.14.0 aws_lambda_powertools-1.25.5 boto3-1.36.11 botocore-1.36.11 fyers_apiv3-3.1.5 jmespath-0.10.0 requests-2.31.0 s3transfer-0.11.2 websocket-client-1.6.1\n"
          ]
        },
        {
          "output_type": "display_data",
          "data": {
            "application/vnd.colab-display-data+json": {
              "pip_warning": {
                "packages": [
                  "asyncio"
                ]
              },
              "id": "4c99b854f5724c6f9101cab9a241ee3f"
            }
          },
          "metadata": {}
        }
      ]
    },
    {
      "cell_type": "code",
      "execution_count": 1,
      "metadata": {
        "id": "z9FaaFsi3DJK"
      },
      "outputs": [],
      "source": [
        "import numpy as np\n",
        "import pandas as pd\n",
        "import pandas_ta as ta\n",
        "import tensorflow as tf\n",
        "from tensorflow.keras.models import Sequential\n",
        "from tensorflow.keras.layers import LSTM, Dense, Dropout, BatchNormalization\n",
        "from tensorflow.keras.callbacks import EarlyStopping\n",
        "from tensorflow.keras.activations import relu, tanh, sigmoid\n",
        "\n",
        "from sklearn.preprocessing import MinMaxScaler\n",
        "import matplotlib.pyplot as plt\n",
        "import json as json\n",
        "\n",
        "# Set random seed for reproducibility\n",
        "np.random.seed(42)\n",
        "tf.random.set_seed(42)"
      ]
    },
    {
      "cell_type": "code",
      "source": [
        "from fyers_apiv3 import fyersModel\n",
        "\n",
        "client_id = \"Q9Y3IP8H5W-100\"\n",
        "#access_token = \"eyJ0eXAiOiJKV1QiLCJhbGciOiJIUzI1NiJ9.eyJpc3MiOiJhcGkuZnllcnMuaW4iLCJpYXQiOjE3MTc5MDU4OTIsImV4cCI6MTcxNzk3OTQ1MiwibmJmIjoxNzE3OTA1ODkyLCJhdWQiOlsieDowIiwieDoxIiwieDoyIiwiZDoxIiwiZDoyIiwieDoxIiwieDowIl0sInN1YiI6ImFjY2Vzc190b2tlbiIsImF0X2hhc2giOiJnQUFBQUFCbVpTbms3VGE2ektjb2ZuQlVMRjFQV05KbGI3UkJYZGVtaWlMV3pIcDlQdnRDdVJjYWRRUExSeWNZLTZBb2pFazRvZDhHNTNnVk9iWS1rX0diYk5JTVQ5LTZMcnBkODRiTjVDQ2RPTktvWWxJd0tzaz0iLCJkaXNwbGF5X25hbWUiOiJIUklTSElLRVNIIERFRVBBSyBOQVNISUtLQVIiLCJvbXMiOiJLMSIsImhzbV9rZXkiOiIzMDI1Y2IzMjkxYWEzYTcyMzM3MWIyYzkxOGU4YTc5ZDFkZDk5ODlmMmI3NjcwY2ViZGZkNjQyNiIsImZ5X2lkIjoiWUgwMTc3NSIsImFwcFR5cGUiOjEwMCwicG9hX2ZsYWciOiJOIn0.xguoXythWsSY5p8GrebQbkdp8qXVRMZa0m0agds9YJc\"\n",
        "#access_token = \"eyJ0eXAiOiJKV1QiLCJhbGciOiJIUzI1NiJ9.eyJpc3MiOiJhcGkuZnllcnMuaW4iLCJpYXQiOjE3MTgxMjc1NTIsImV4cCI6MTcxODE1MjIxMiwibmJmIjoxNzE4MTI3NTUyLCJhdWQiOlsieDowIiwieDoxIiwieDoyIiwiZDoxIiwiZDoyIiwieDoxIiwieDowIl0sInN1YiI6ImFjY2Vzc190b2tlbiIsImF0X2hhc2giOiJnQUFBQUFCbWFJdkF0X053Z1NxUThpME9SU2RTdnptV21YOFJSYV9DRWd3b3ZMTm9uXzJwT21oSlY2VzRHNFdxNUExblI5YnEwbmJaMjZEbVhjZTYtQVhIcTBEVkFDR0V6YlFHSjlVYmdTanRpMzZiZldnYktxTT0iLCJkaXNwbGF5X25hbWUiOiJIUklTSElLRVNIIERFRVBBSyBOQVNISUtLQVIiLCJvbXMiOiJLMSIsImhzbV9rZXkiOiIzMDI1Y2IzMjkxYWEzYTcyMzM3MWIyYzkxOGU4YTc5ZDFkZDk5ODlmMmI3NjcwY2ViZGZkNjQyNiIsImZ5X2lkIjoiWUgwMTc3NSIsImFwcFR5cGUiOjEwMCwicG9hX2ZsYWciOiJOIn0.nAmIcXO_skFI-GUb4d0cPnerqPsLn0iAnLVbPTwZaMI\"\n",
        "access_token = \"eyJ0eXAiOiJKV1QiLCJhbGciOiJIUzI1NiJ9.eyJpc3MiOiJhcGkuZnllcnMuaW4iLCJpYXQiOjE3Mzg1MDYwODEsImV4cCI6MTczODU0MjYyMSwibmJmIjoxNzM4NTA2MDgxLCJhdWQiOlsieDowIiwieDoxIiwieDoyIiwiZDoxIiwiZDoyIiwieDoxIiwieDowIl0sInN1YiI6ImFjY2Vzc190b2tlbiIsImF0X2hhc2giOiJnQUFBQUFCbm4zOWhCUnFaZC0yM053ZDdZSU54ZnJwcFNKQXlHQUpjYWZlTzFHT19famlKczRVQzFhem1Hd1ZxOWo3NFBLTEhWMThQVDJCMXNtWVpybzlBZVF6SGZZNVRJTGF6Tzhuek5FLThETW85RXlyUnVlcz0iLCJkaXNwbGF5X25hbWUiOiJIUklTSElLRVNIIERFRVBBSyBOQVNISUtLQVIiLCJvbXMiOiJLMSIsImhzbV9rZXkiOiIzMDI1Y2IzMjkxYWEzYTcyMzM3MWIyYzkxOGU4YTc5ZDFkZDk5ODlmMmI3NjcwY2ViZGZkNjQyNiIsImlzRGRwaUVuYWJsZWQiOiJOIiwiaXNNdGZFbmFibGVkIjoiTiIsImZ5X2lkIjoiWUgwMTc3NSIsImFwcFR5cGUiOjEwMCwicG9hX2ZsYWciOiJOIn0.7zbMdCaiAHtrmEPdkN7_Mi3S46GZfMe4IlKdO4RH9qk\"\n",
        "fyers = fyersModel.FyersModel(client_id=client_id, is_async=False, token=access_token, log_path=\"\")\n",
        "\n",
        "#yyyy-mm-dd\n",
        "daily_data = {\n",
        "    \"symbol\":\"MCX:SILVERMIC25FEBFUT\",\n",
        "    \"resolution\":\"60\",\n",
        "    \"date_format\":\"1\",\n",
        "    \"range_from\":\"2024-11-01\",\n",
        "    \"range_to\":\"2025-01-31\",\n",
        "    \"cont_flag\":\"1\"\n",
        "}\n",
        "\n",
        "response = fyers.history(data=daily_data)\n",
        "print(response)\n",
        "daily_data_json = json.dumps(response)\n",
        "daily_data_df = json.loads(daily_data_json)\n",
        "#print(daily_data_df['candles'])\n",
        "pricing_daily_data = daily_data_df['candles']\n",
        "daily_df = pd.DataFrame(pricing_daily_data)\n",
        "daily_df.columns = [\"epoch\", \"open\", \"high\", \"low\", \"close\", \"volume\"]\n",
        "\n",
        "# #hourly data Extraction\n",
        "# hourly_data = {\n",
        "#     \"symbol\":\"NSE:SBIN-EQ\",\n",
        "#     \"resolution\":\"60\",\n",
        "#     \"date_format\":\"1\",\n",
        "#     \"range_from\":\"2024-03-01\",\n",
        "#     \"range_to\":\"2024-05-29\",\n",
        "#     \"cont_flag\":\"1\"\n",
        "# }\n",
        "\n",
        "import datetime\n",
        "daily_df['date'] = pd.to_datetime(daily_df['epoch'], unit='s').dt.strftime('%Y-%m-%d')\n",
        "print(daily_df)\n"
      ],
      "metadata": {
        "colab": {
          "base_uri": "https://localhost:8080/",
          "height": 248
        },
        "id": "PMnic4XMJc8h",
        "outputId": "ad12f83c-cf88-4ca5-c22f-d5966709f953"
      },
      "execution_count": 5,
      "outputs": [
        {
          "output_type": "stream",
          "name": "stdout",
          "text": [
            "{'code': -50, 'data': {'range_to': 'range_to cannot be 100 days greater than range_from for resolutions 1, 2, 3, 5, 10, 15, 20, 30, 45, 60, 120, 180 and 240'}, 'message': 'Invalid input', 's': 'error'}\n"
          ]
        },
        {
          "output_type": "error",
          "ename": "KeyError",
          "evalue": "'candles'",
          "traceback": [
            "\u001b[0;31m---------------------------------------------------------------------------\u001b[0m",
            "\u001b[0;31mKeyError\u001b[0m                                  Traceback (most recent call last)",
            "\u001b[0;32m<ipython-input-5-ec09daf1f236>\u001b[0m in \u001b[0;36m<cell line: 0>\u001b[0;34m()\u001b[0m\n\u001b[1;32m     22\u001b[0m \u001b[0mdaily_data_df\u001b[0m \u001b[0;34m=\u001b[0m \u001b[0mjson\u001b[0m\u001b[0;34m.\u001b[0m\u001b[0mloads\u001b[0m\u001b[0;34m(\u001b[0m\u001b[0mdaily_data_json\u001b[0m\u001b[0;34m)\u001b[0m\u001b[0;34m\u001b[0m\u001b[0;34m\u001b[0m\u001b[0m\n\u001b[1;32m     23\u001b[0m \u001b[0;31m#print(daily_data_df['candles'])\u001b[0m\u001b[0;34m\u001b[0m\u001b[0;34m\u001b[0m\u001b[0m\n\u001b[0;32m---> 24\u001b[0;31m \u001b[0mpricing_daily_data\u001b[0m \u001b[0;34m=\u001b[0m \u001b[0mdaily_data_df\u001b[0m\u001b[0;34m[\u001b[0m\u001b[0;34m'candles'\u001b[0m\u001b[0;34m]\u001b[0m\u001b[0;34m\u001b[0m\u001b[0;34m\u001b[0m\u001b[0m\n\u001b[0m\u001b[1;32m     25\u001b[0m \u001b[0mdaily_df\u001b[0m \u001b[0;34m=\u001b[0m \u001b[0mpd\u001b[0m\u001b[0;34m.\u001b[0m\u001b[0mDataFrame\u001b[0m\u001b[0;34m(\u001b[0m\u001b[0mpricing_daily_data\u001b[0m\u001b[0;34m)\u001b[0m\u001b[0;34m\u001b[0m\u001b[0;34m\u001b[0m\u001b[0m\n\u001b[1;32m     26\u001b[0m \u001b[0mdaily_df\u001b[0m\u001b[0;34m.\u001b[0m\u001b[0mcolumns\u001b[0m \u001b[0;34m=\u001b[0m \u001b[0;34m[\u001b[0m\u001b[0;34m\"epoch\"\u001b[0m\u001b[0;34m,\u001b[0m \u001b[0;34m\"open\"\u001b[0m\u001b[0;34m,\u001b[0m \u001b[0;34m\"high\"\u001b[0m\u001b[0;34m,\u001b[0m \u001b[0;34m\"low\"\u001b[0m\u001b[0;34m,\u001b[0m \u001b[0;34m\"close\"\u001b[0m\u001b[0;34m,\u001b[0m \u001b[0;34m\"volume\"\u001b[0m\u001b[0;34m]\u001b[0m\u001b[0;34m\u001b[0m\u001b[0;34m\u001b[0m\u001b[0m\n",
            "\u001b[0;31mKeyError\u001b[0m: 'candles'"
          ]
        }
      ]
    },
    {
      "cell_type": "code",
      "source": [
        "# Moving Average 20\n",
        "daily_df['DAILY_RSI']=ta.rsi(daily_df.close, length=15)\n",
        "daily_df['DAILY_EMA5']=ta.ema(daily_df.close, length=5)\n",
        "# daily_df['DAILY_EMA12']=ta.ema(daily_df.close, length=12)\n",
        "# daily_df['DAILY_EMA13']=ta.ema(daily_df.close, length=13)\n",
        "# daily_df['DAILY_EMA26']=ta.ema(daily_df.close, length=26)\n",
        "daily_df['DAILY_EMA50']=ta.ema(daily_df.close, length=50)\n",
        "\n",
        "# Calculate MACD (the difference between 12-period EMA and 26-period EMA)\n",
        "daily_df['DAILY_MACD'] = daily_df['DAILY_EMA5'] - daily_df['DAILY_EMA50']\n",
        "\n",
        "# Calculate the 9-period EMA of MACD (Signal Line)\n",
        "daily_df['DAILY_SIGNAL'] = daily_df['DAILY_MACD'].ewm(span=9, adjust=False).mean()\n",
        "\n",
        "## Target calculation\n",
        "daily_df['Target'] = daily_df['close'].shift(-1) - daily_df['close']  # Price Movement\n",
        "# daily_df['Target'] = daily_df['Target'].shift(-1)\n",
        "\n",
        "daily_df['TargetClass'] = [1 if daily_df.Target[i]>0 else 0 for i in range(len(daily_df))]\n",
        "daily_df['TargetNextClose'] = daily_df['close'].shift(-1)\n",
        "\n",
        "##ADX\n",
        "adx_df = daily_df.ta.adx(high=daily_df['high'], low=daily_df['low'], close=daily_df['close']);\n",
        "daily_df = pd.concat([daily_df, adx_df], axis=1)\n",
        "\n",
        "##BB\n",
        "bb_df = ta.bbands(daily_df.close, length=20, std=2).iloc[:, :3]\n",
        "daily_df = pd.concat([daily_df, bb_df], axis=1)\n",
        "\n",
        "#### Drop rows with NaN values created by indicators calculation\n",
        "\n",
        "daily_df.dropna(inplace=True)\n",
        "print(daily_df.shape)"
      ],
      "metadata": {
        "colab": {
          "base_uri": "https://localhost:8080/"
        },
        "id": "KU3mVuD3Ng3j",
        "outputId": "7a39a5c9-2b3f-40ee-899f-5fe8c8c1e1bb"
      },
      "execution_count": null,
      "outputs": [
        {
          "output_type": "stream",
          "name": "stdout",
          "text": [
            "(118, 21)\n"
          ]
        }
      ]
    },
    {
      "cell_type": "code",
      "source": [
        "features = ['close', 'DAILY_MACD', 'DAILY_RSI', 'DAILY_SIGNAL', 'volume', 'DAILY_EMA5', 'DAILY_EMA50', 'BBL_20_2.0', 'BBM_20_2.0', 'BBU_20_2.0', 'Target', 'TargetClass', 'TargetNextClose', 'ADX_14']\n",
        "# Normalize features\n",
        "scaler = MinMaxScaler()\n",
        "scaled_data = scaler.fit_transform(daily_df[features])\n",
        "print(scaled_data.shape)"
      ],
      "metadata": {
        "id": "DUeVTQD0W9uj",
        "colab": {
          "base_uri": "https://localhost:8080/"
        },
        "outputId": "dc4cf1d4-33c8-442e-e0a2-fdee5de2f05b"
      },
      "execution_count": null,
      "outputs": [
        {
          "output_type": "stream",
          "name": "stdout",
          "text": [
            "(118, 14)\n"
          ]
        }
      ]
    },
    {
      "cell_type": "code",
      "source": [
        "# Create sequences for LSTM model\n",
        "def create_sequences(data, seq_length, pred_length):\n",
        "    sequences = []\n",
        "    labels = []\n",
        "    for i in range(len(data) - seq_length - pred_length + 1):\n",
        "        sequences.append(data[i:i + seq_length])\n",
        "        labels.append(data[i + seq_length:i + seq_length + pred_length, 0])  # Assuming 'Close' is the first column\n",
        "    return np.array(sequences), np.array(labels)\n",
        "\n",
        "# If the input data is not a 2D array, reshape it\n",
        "if len(scaled_data.shape) != 2:\n",
        "    scaled_data = scaled_data.reshape(-1, 1)\n",
        "\n",
        "SEQ_LENGTH = 5  # 60 days sequence\n",
        "PRED_LENGTH = 1  # Prediction length\n",
        "\n",
        "X, y = create_sequences(scaled_data, SEQ_LENGTH, PRED_LENGTH)\n",
        "\n",
        "# Split into training and test sets\n",
        "split = int(0.8 * len(X))\n",
        "X_train, X_test = X[:split], X[split:]\n",
        "y_train, y_test = y[:split], y[split:]"
      ],
      "metadata": {
        "id": "aENaBuvSbMaU"
      },
      "execution_count": null,
      "outputs": []
    },
    {
      "cell_type": "code",
      "source": [
        "print(X_train.shape)\n",
        "print(y_train.shape)\n",
        "print(X_test.shape)\n",
        "print(y_test.shape)"
      ],
      "metadata": {
        "colab": {
          "base_uri": "https://localhost:8080/"
        },
        "id": "PZd3ZIEV0UlM",
        "outputId": "0f1064cf-b73a-449d-962a-b7704984b92f"
      },
      "execution_count": null,
      "outputs": [
        {
          "output_type": "stream",
          "name": "stdout",
          "text": [
            "(90, 5, 14)\n",
            "(90, 1)\n",
            "(23, 5, 14)\n",
            "(23, 1)\n"
          ]
        }
      ]
    },
    {
      "cell_type": "code",
      "source": [
        "# model = Sequential([\n",
        "#     LSTM(150, activation='tanh', return_sequences=True, input_shape=(SEQ_LENGTH, X_train.shape[2])),\n",
        "# #    BatchNormalization(),\n",
        "#     Dropout(0.2),\n",
        "#     LSTM(150, activation='tanh', return_sequences=True),\n",
        "#     Dropout(0.2),\n",
        "#     LSTM(150, activation='tanh'),\n",
        "#     Dropout(0.2),\n",
        "#     Dense(PRED_LENGTH, activation='linear')\n",
        "# ])\n",
        "\n",
        "from tensorflow.keras.models import load_model\n",
        "\n",
        "model = load_model(\"/content/drive/MyDrive/Colab Notebooks/models/my_silver_model05.keras\")\n",
        "\n",
        "model.compile(optimizer='adam', loss='mean_squared_error')\n",
        "# Define early stopping callback\n",
        "early_stopping = EarlyStopping(monitor='val_loss', patience=10, restore_best_weights=True)\n",
        "\n",
        "history = model.fit(X_train, y_train, epochs=60, batch_size=32, validation_data=(X_test, y_test), callbacks=[early_stopping])"
      ],
      "metadata": {
        "colab": {
          "base_uri": "https://localhost:8080/"
        },
        "id": "Y_kxhc5ubT-L",
        "outputId": "7fb02766-eabb-4e2c-df97-bb2052d98686"
      },
      "execution_count": null,
      "outputs": [
        {
          "output_type": "stream",
          "name": "stderr",
          "text": [
            "/usr/local/lib/python3.11/dist-packages/keras/src/layers/rnn/rnn.py:200: UserWarning: Do not pass an `input_shape`/`input_dim` argument to a layer. When using Sequential models, prefer using an `Input(shape)` object as the first layer in the model instead.\n",
            "  super().__init__(**kwargs)\n"
          ]
        },
        {
          "output_type": "stream",
          "name": "stdout",
          "text": [
            "Epoch 1/60\n",
            "\u001b[1m3/3\u001b[0m \u001b[32m━━━━━━━━━━━━━━━━━━━━\u001b[0m\u001b[37m\u001b[0m \u001b[1m7s\u001b[0m 352ms/step - loss: 0.2076 - val_loss: 0.0217\n",
            "Epoch 2/60\n",
            "\u001b[1m3/3\u001b[0m \u001b[32m━━━━━━━━━━━━━━━━━━━━\u001b[0m\u001b[37m\u001b[0m \u001b[1m0s\u001b[0m 66ms/step - loss: 0.0441 - val_loss: 0.0419\n",
            "Epoch 3/60\n",
            "\u001b[1m3/3\u001b[0m \u001b[32m━━━━━━━━━━━━━━━━━━━━\u001b[0m\u001b[37m\u001b[0m \u001b[1m0s\u001b[0m 65ms/step - loss: 0.0514 - val_loss: 0.0097\n",
            "Epoch 4/60\n",
            "\u001b[1m3/3\u001b[0m \u001b[32m━━━━━━━━━━━━━━━━━━━━\u001b[0m\u001b[37m\u001b[0m \u001b[1m0s\u001b[0m 70ms/step - loss: 0.0319 - val_loss: 0.0264\n",
            "Epoch 5/60\n",
            "\u001b[1m3/3\u001b[0m \u001b[32m━━━━━━━━━━━━━━━━━━━━\u001b[0m\u001b[37m\u001b[0m \u001b[1m0s\u001b[0m 66ms/step - loss: 0.0391 - val_loss: 0.0102\n",
            "Epoch 6/60\n",
            "\u001b[1m3/3\u001b[0m \u001b[32m━━━━━━━━━━━━━━━━━━━━\u001b[0m\u001b[37m\u001b[0m \u001b[1m0s\u001b[0m 66ms/step - loss: 0.0276 - val_loss: 0.0065\n",
            "Epoch 7/60\n",
            "\u001b[1m3/3\u001b[0m \u001b[32m━━━━━━━━━━━━━━━━━━━━\u001b[0m\u001b[37m\u001b[0m \u001b[1m0s\u001b[0m 93ms/step - loss: 0.0285 - val_loss: 0.0074\n",
            "Epoch 8/60\n",
            "\u001b[1m3/3\u001b[0m \u001b[32m━━━━━━━━━━━━━━━━━━━━\u001b[0m\u001b[37m\u001b[0m \u001b[1m0s\u001b[0m 64ms/step - loss: 0.0240 - val_loss: 0.0052\n",
            "Epoch 9/60\n",
            "\u001b[1m3/3\u001b[0m \u001b[32m━━━━━━━━━━━━━━━━━━━━\u001b[0m\u001b[37m\u001b[0m \u001b[1m0s\u001b[0m 64ms/step - loss: 0.0226 - val_loss: 0.0110\n",
            "Epoch 10/60\n",
            "\u001b[1m3/3\u001b[0m \u001b[32m━━━━━━━━━━━━━━━━━━━━\u001b[0m\u001b[37m\u001b[0m \u001b[1m0s\u001b[0m 61ms/step - loss: 0.0241 - val_loss: 0.0077\n",
            "Epoch 11/60\n",
            "\u001b[1m3/3\u001b[0m \u001b[32m━━━━━━━━━━━━━━━━━━━━\u001b[0m\u001b[37m\u001b[0m \u001b[1m0s\u001b[0m 76ms/step - loss: 0.0188 - val_loss: 0.0044\n",
            "Epoch 12/60\n",
            "\u001b[1m3/3\u001b[0m \u001b[32m━━━━━━━━━━━━━━━━━━━━\u001b[0m\u001b[37m\u001b[0m \u001b[1m0s\u001b[0m 65ms/step - loss: 0.0202 - val_loss: 0.0045\n",
            "Epoch 13/60\n",
            "\u001b[1m3/3\u001b[0m \u001b[32m━━━━━━━━━━━━━━━━━━━━\u001b[0m\u001b[37m\u001b[0m \u001b[1m0s\u001b[0m 80ms/step - loss: 0.0183 - val_loss: 0.0068\n",
            "Epoch 14/60\n",
            "\u001b[1m3/3\u001b[0m \u001b[32m━━━━━━━━━━━━━━━━━━━━\u001b[0m\u001b[37m\u001b[0m \u001b[1m0s\u001b[0m 61ms/step - loss: 0.0189 - val_loss: 0.0073\n",
            "Epoch 15/60\n",
            "\u001b[1m3/3\u001b[0m \u001b[32m━━━━━━━━━━━━━━━━━━━━\u001b[0m\u001b[37m\u001b[0m \u001b[1m0s\u001b[0m 75ms/step - loss: 0.0147 - val_loss: 0.0049\n",
            "Epoch 16/60\n",
            "\u001b[1m3/3\u001b[0m \u001b[32m━━━━━━━━━━━━━━━━━━━━\u001b[0m\u001b[37m\u001b[0m \u001b[1m0s\u001b[0m 61ms/step - loss: 0.0151 - val_loss: 0.0050\n",
            "Epoch 17/60\n",
            "\u001b[1m3/3\u001b[0m \u001b[32m━━━━━━━━━━━━━━━━━━━━\u001b[0m\u001b[37m\u001b[0m \u001b[1m0s\u001b[0m 64ms/step - loss: 0.0178 - val_loss: 0.0057\n",
            "Epoch 18/60\n",
            "\u001b[1m3/3\u001b[0m \u001b[32m━━━━━━━━━━━━━━━━━━━━\u001b[0m\u001b[37m\u001b[0m \u001b[1m0s\u001b[0m 70ms/step - loss: 0.0142 - val_loss: 0.0055\n",
            "Epoch 19/60\n",
            "\u001b[1m3/3\u001b[0m \u001b[32m━━━━━━━━━━━━━━━━━━━━\u001b[0m\u001b[37m\u001b[0m \u001b[1m0s\u001b[0m 62ms/step - loss: 0.0124 - val_loss: 0.0048\n",
            "Epoch 20/60\n",
            "\u001b[1m3/3\u001b[0m \u001b[32m━━━━━━━━━━━━━━━━━━━━\u001b[0m\u001b[37m\u001b[0m \u001b[1m0s\u001b[0m 65ms/step - loss: 0.0172 - val_loss: 0.0049\n",
            "Epoch 21/60\n",
            "\u001b[1m3/3\u001b[0m \u001b[32m━━━━━━━━━━━━━━━━━━━━\u001b[0m\u001b[37m\u001b[0m \u001b[1m0s\u001b[0m 66ms/step - loss: 0.0131 - val_loss: 0.0043\n",
            "Epoch 22/60\n",
            "\u001b[1m3/3\u001b[0m \u001b[32m━━━━━━━━━━━━━━━━━━━━\u001b[0m\u001b[37m\u001b[0m \u001b[1m0s\u001b[0m 63ms/step - loss: 0.0116 - val_loss: 0.0051\n",
            "Epoch 23/60\n",
            "\u001b[1m3/3\u001b[0m \u001b[32m━━━━━━━━━━━━━━━━━━━━\u001b[0m\u001b[37m\u001b[0m \u001b[1m0s\u001b[0m 128ms/step - loss: 0.0114 - val_loss: 0.0040\n",
            "Epoch 24/60\n",
            "\u001b[1m3/3\u001b[0m \u001b[32m━━━━━━━━━━━━━━━━━━━━\u001b[0m\u001b[37m\u001b[0m \u001b[1m1s\u001b[0m 125ms/step - loss: 0.0122 - val_loss: 0.0044\n",
            "Epoch 25/60\n",
            "\u001b[1m3/3\u001b[0m \u001b[32m━━━━━━━━━━━━━━━━━━━━\u001b[0m\u001b[37m\u001b[0m \u001b[1m1s\u001b[0m 124ms/step - loss: 0.0112 - val_loss: 0.0037\n",
            "Epoch 26/60\n",
            "\u001b[1m3/3\u001b[0m \u001b[32m━━━━━━━━━━━━━━━━━━━━\u001b[0m\u001b[37m\u001b[0m \u001b[1m1s\u001b[0m 239ms/step - loss: 0.0103 - val_loss: 0.0036\n",
            "Epoch 27/60\n",
            "\u001b[1m3/3\u001b[0m \u001b[32m━━━━━━━━━━━━━━━━━━━━\u001b[0m\u001b[37m\u001b[0m \u001b[1m1s\u001b[0m 180ms/step - loss: 0.0094 - val_loss: 0.0043\n",
            "Epoch 28/60\n",
            "\u001b[1m3/3\u001b[0m \u001b[32m━━━━━━━━━━━━━━━━━━━━\u001b[0m\u001b[37m\u001b[0m \u001b[1m1s\u001b[0m 232ms/step - loss: 0.0090 - val_loss: 0.0036\n",
            "Epoch 29/60\n",
            "\u001b[1m3/3\u001b[0m \u001b[32m━━━━━━━━━━━━━━━━━━━━\u001b[0m\u001b[37m\u001b[0m \u001b[1m1s\u001b[0m 156ms/step - loss: 0.0108 - val_loss: 0.0040\n",
            "Epoch 30/60\n",
            "\u001b[1m3/3\u001b[0m \u001b[32m━━━━━━━━━━━━━━━━━━━━\u001b[0m\u001b[37m\u001b[0m \u001b[1m1s\u001b[0m 201ms/step - loss: 0.0080 - val_loss: 0.0031\n",
            "Epoch 31/60\n",
            "\u001b[1m3/3\u001b[0m \u001b[32m━━━━━━━━━━━━━━━━━━━━\u001b[0m\u001b[37m\u001b[0m \u001b[1m0s\u001b[0m 120ms/step - loss: 0.0089 - val_loss: 0.0030\n",
            "Epoch 32/60\n",
            "\u001b[1m3/3\u001b[0m \u001b[32m━━━━━━━━━━━━━━━━━━━━\u001b[0m\u001b[37m\u001b[0m \u001b[1m0s\u001b[0m 120ms/step - loss: 0.0087 - val_loss: 0.0032\n",
            "Epoch 33/60\n",
            "\u001b[1m3/3\u001b[0m \u001b[32m━━━━━━━━━━━━━━━━━━━━\u001b[0m\u001b[37m\u001b[0m \u001b[1m0s\u001b[0m 157ms/step - loss: 0.0072 - val_loss: 0.0033\n",
            "Epoch 34/60\n",
            "\u001b[1m3/3\u001b[0m \u001b[32m━━━━━━━━━━━━━━━━━━━━\u001b[0m\u001b[37m\u001b[0m \u001b[1m0s\u001b[0m 171ms/step - loss: 0.0091 - val_loss: 0.0030\n",
            "Epoch 35/60\n",
            "\u001b[1m3/3\u001b[0m \u001b[32m━━━━━━━━━━━━━━━━━━━━\u001b[0m\u001b[37m\u001b[0m \u001b[1m1s\u001b[0m 165ms/step - loss: 0.0083 - val_loss: 0.0040\n",
            "Epoch 36/60\n",
            "\u001b[1m3/3\u001b[0m \u001b[32m━━━━━━━━━━━━━━━━━━━━\u001b[0m\u001b[37m\u001b[0m \u001b[1m0s\u001b[0m 122ms/step - loss: 0.0083 - val_loss: 0.0034\n",
            "Epoch 37/60\n",
            "\u001b[1m3/3\u001b[0m \u001b[32m━━━━━━━━━━━━━━━━━━━━\u001b[0m\u001b[37m\u001b[0m \u001b[1m0s\u001b[0m 122ms/step - loss: 0.0073 - val_loss: 0.0054\n",
            "Epoch 38/60\n",
            "\u001b[1m3/3\u001b[0m \u001b[32m━━━━━━━━━━━━━━━━━━━━\u001b[0m\u001b[37m\u001b[0m \u001b[1m0s\u001b[0m 131ms/step - loss: 0.0093 - val_loss: 0.0031\n",
            "Epoch 39/60\n",
            "\u001b[1m3/3\u001b[0m \u001b[32m━━━━━━━━━━━━━━━━━━━━\u001b[0m\u001b[37m\u001b[0m \u001b[1m0s\u001b[0m 122ms/step - loss: 0.0077 - val_loss: 0.0024\n",
            "Epoch 40/60\n",
            "\u001b[1m3/3\u001b[0m \u001b[32m━━━━━━━━━━━━━━━━━━━━\u001b[0m\u001b[37m\u001b[0m \u001b[1m1s\u001b[0m 172ms/step - loss: 0.0065 - val_loss: 0.0023\n",
            "Epoch 41/60\n",
            "\u001b[1m3/3\u001b[0m \u001b[32m━━━━━━━━━━━━━━━━━━━━\u001b[0m\u001b[37m\u001b[0m \u001b[1m1s\u001b[0m 157ms/step - loss: 0.0082 - val_loss: 0.0024\n",
            "Epoch 42/60\n",
            "\u001b[1m3/3\u001b[0m \u001b[32m━━━━━━━━━━━━━━━━━━━━\u001b[0m\u001b[37m\u001b[0m \u001b[1m1s\u001b[0m 183ms/step - loss: 0.0065 - val_loss: 0.0021\n",
            "Epoch 43/60\n",
            "\u001b[1m3/3\u001b[0m \u001b[32m━━━━━━━━━━━━━━━━━━━━\u001b[0m\u001b[37m\u001b[0m \u001b[1m0s\u001b[0m 157ms/step - loss: 0.0071 - val_loss: 0.0024\n",
            "Epoch 44/60\n",
            "\u001b[1m3/3\u001b[0m \u001b[32m━━━━━━━━━━━━━━━━━━━━\u001b[0m\u001b[37m\u001b[0m \u001b[1m1s\u001b[0m 159ms/step - loss: 0.0066 - val_loss: 0.0022\n",
            "Epoch 45/60\n",
            "\u001b[1m3/3\u001b[0m \u001b[32m━━━━━━━━━━━━━━━━━━━━\u001b[0m\u001b[37m\u001b[0m \u001b[1m1s\u001b[0m 146ms/step - loss: 0.0069 - val_loss: 0.0019\n",
            "Epoch 46/60\n",
            "\u001b[1m3/3\u001b[0m \u001b[32m━━━━━━━━━━━━━━━━━━━━\u001b[0m\u001b[37m\u001b[0m \u001b[1m0s\u001b[0m 69ms/step - loss: 0.0063 - val_loss: 0.0019\n",
            "Epoch 47/60\n",
            "\u001b[1m3/3\u001b[0m \u001b[32m━━━━━━━━━━━━━━━━━━━━\u001b[0m\u001b[37m\u001b[0m \u001b[1m0s\u001b[0m 63ms/step - loss: 0.0076 - val_loss: 0.0020\n",
            "Epoch 48/60\n",
            "\u001b[1m3/3\u001b[0m \u001b[32m━━━━━━━━━━━━━━━━━━━━\u001b[0m\u001b[37m\u001b[0m \u001b[1m0s\u001b[0m 82ms/step - loss: 0.0064 - val_loss: 0.0020\n",
            "Epoch 49/60\n",
            "\u001b[1m3/3\u001b[0m \u001b[32m━━━━━━━━━━━━━━━━━━━━\u001b[0m\u001b[37m\u001b[0m \u001b[1m0s\u001b[0m 72ms/step - loss: 0.0082 - val_loss: 0.0018\n",
            "Epoch 50/60\n",
            "\u001b[1m3/3\u001b[0m \u001b[32m━━━━━━━━━━━━━━━━━━━━\u001b[0m\u001b[37m\u001b[0m \u001b[1m0s\u001b[0m 77ms/step - loss: 0.0061 - val_loss: 0.0017\n",
            "Epoch 51/60\n",
            "\u001b[1m3/3\u001b[0m \u001b[32m━━━━━━━━━━━━━━━━━━━━\u001b[0m\u001b[37m\u001b[0m \u001b[1m0s\u001b[0m 114ms/step - loss: 0.0083 - val_loss: 0.0016\n",
            "Epoch 52/60\n",
            "\u001b[1m3/3\u001b[0m \u001b[32m━━━━━━━━━━━━━━━━━━━━\u001b[0m\u001b[37m\u001b[0m \u001b[1m1s\u001b[0m 123ms/step - loss: 0.0065 - val_loss: 0.0018\n",
            "Epoch 53/60\n",
            "\u001b[1m3/3\u001b[0m \u001b[32m━━━━━━━━━━━━━━━━━━━━\u001b[0m\u001b[37m\u001b[0m \u001b[1m1s\u001b[0m 126ms/step - loss: 0.0060 - val_loss: 0.0019\n",
            "Epoch 54/60\n",
            "\u001b[1m3/3\u001b[0m \u001b[32m━━━━━━━━━━━━━━━━━━━━\u001b[0m\u001b[37m\u001b[0m \u001b[1m0s\u001b[0m 136ms/step - loss: 0.0044 - val_loss: 0.0015\n",
            "Epoch 55/60\n",
            "\u001b[1m3/3\u001b[0m \u001b[32m━━━━━━━━━━━━━━━━━━━━\u001b[0m\u001b[37m\u001b[0m \u001b[1m0s\u001b[0m 123ms/step - loss: 0.0059 - val_loss: 0.0018\n",
            "Epoch 56/60\n",
            "\u001b[1m3/3\u001b[0m \u001b[32m━━━━━━━━━━━━━━━━━━━━\u001b[0m\u001b[37m\u001b[0m \u001b[1m0s\u001b[0m 67ms/step - loss: 0.0049 - val_loss: 0.0014\n",
            "Epoch 57/60\n",
            "\u001b[1m3/3\u001b[0m \u001b[32m━━━━━━━━━━━━━━━━━━━━\u001b[0m\u001b[37m\u001b[0m \u001b[1m0s\u001b[0m 61ms/step - loss: 0.0059 - val_loss: 0.0021\n",
            "Epoch 58/60\n",
            "\u001b[1m3/3\u001b[0m \u001b[32m━━━━━━━━━━━━━━━━━━━━\u001b[0m\u001b[37m\u001b[0m \u001b[1m0s\u001b[0m 65ms/step - loss: 0.0065 - val_loss: 0.0013\n",
            "Epoch 59/60\n",
            "\u001b[1m3/3\u001b[0m \u001b[32m━━━━━━━━━━━━━━━━━━━━\u001b[0m\u001b[37m\u001b[0m \u001b[1m0s\u001b[0m 82ms/step - loss: 0.0053 - val_loss: 0.0020\n",
            "Epoch 60/60\n",
            "\u001b[1m3/3\u001b[0m \u001b[32m━━━━━━━━━━━━━━━━━━━━\u001b[0m\u001b[37m\u001b[0m \u001b[1m0s\u001b[0m 64ms/step - loss: 0.0058 - val_loss: 0.0013\n"
          ]
        }
      ]
    },
    {
      "cell_type": "code",
      "source": [
        "# Plot training history\n",
        "plt.plot(history.history['loss'], label='Training Loss')\n",
        "plt.plot(history.history['val_loss'], label='Validation Loss')\n",
        "plt.legend()\n",
        "plt.show()\n",
        "\n",
        "print(\"X_test\", X_test.shape)\n",
        "\n",
        "# Make predictions\n",
        "test_predictions = model.predict(X_test)\n",
        "\n",
        "test_predictions_reshaped = np.zeros((test_predictions.shape[0], scaled_data.shape[1]))\n",
        "test_predictions_reshaped[:, 0] = test_predictions[:, 0]  # Only 'Close' prices are predicted\n",
        "test_predictions_inversed = scaler.inverse_transform(test_predictions_reshaped)[:, 0]\n",
        "# Plot predicted vs actual prices\n",
        "plt.plot(daily_df.index[-len(y_test):], scaler.inverse_transform(np.concatenate([y_test, np.zeros((y_test.shape[0], scaled_data.shape[1] - y_test.shape[1]))], axis=1))[:, 0], color='blue', label='Actual Price')\n",
        "\n",
        "plt.plot(daily_df.index[-len(test_predictions):], test_predictions_inversed, color='red', linestyle='--', label='Predicted Price')\n",
        "\n",
        "# Adding titles and labels\n",
        "plt.title('Actual vs Predicted Prices')\n",
        "plt.xlabel('Date')\n",
        "plt.ylabel('Price')\n",
        "plt.legend()\n",
        "plt.show()\n",
        "\n",
        "# Import the os module\n",
        "import os\n",
        "\n",
        "\n",
        "from google.colab import drive\n",
        "drive.mount('/content/drive')\n",
        "\n",
        "# Define the directory where you want to save the model\n",
        "save_dir = \"/content/drive/MyDrive/Colab Notebooks/models\"\n",
        "\n",
        "# Create the directory if it doesn't exist\n",
        "if not os.path.exists(save_dir):\n",
        "    os.makedirs(save_dir)\n",
        "\n",
        "# Save the model to the specified directory\n",
        "model.save(os.path.join(save_dir, \"my_silver_model05.keras\"))\n"
      ],
      "metadata": {
        "colab": {
          "base_uri": "https://localhost:8080/",
          "height": 957
        },
        "id": "QvRx6jJplfqN",
        "outputId": "18a31a60-0b78-4752-81ad-e5749788755c"
      },
      "execution_count": null,
      "outputs": [
        {
          "output_type": "display_data",
          "data": {
            "text/plain": [
              "<Figure size 640x480 with 1 Axes>"
            ],
            "image/png": "[encoded data removed]"
          },
          "metadata": {}
        },
        {
          "output_type": "stream",
          "name": "stdout",
          "text": [
            "X_test (23, 5, 14)\n",
            "\u001b[1m1/1\u001b[0m \u001b[32m━━━━━━━━━━━━━━━━━━━━\u001b[0m\u001b[37m\u001b[0m \u001b[1m0s\u001b[0m 99ms/step\n"
          ]
        },
        {
          "output_type": "display_data",
          "data": {
            "text/plain": [
              "<Figure size 640x480 with 1 Axes>"
            ],
            "image/png": "[encoded data removed]"
          },
          "metadata": {}
        },
        {
          "output_type": "stream",
          "name": "stdout",
          "text": [
            "Drive already mounted at /content/drive; to attempt to forcibly remount, call drive.mount(\"/content/drive\", force_remount=True).\n"
          ]
        }
      ]
    },
    {
      "cell_type": "code",
      "source": [
        "# from tensorflow.keras.models import load_model\n",
        "\n",
        "# model = load_model(\"my_silver_model05.keras\")  # Load your saved model\n",
        "\n",
        "\n",
        "# Function to make predictions iteratively\n",
        "def predict_next_days(model, recent_data, num_days=1): # Default num_days to 1\n",
        "    current_sequence = recent_data\n",
        "    current_sequence_reshaped = np.reshape(current_sequence, (1, current_sequence.shape[0], current_sequence.shape[1]))\n",
        "    next_prediction = model.predict(current_sequence_reshaped)[0]  # Predict for the next day\n",
        "    return next_prediction # Return the single prediction\n",
        "\n",
        "# Define thresholds for low, medium, and high movement (adjust as needed)\n",
        "low_threshold = 0.01  # 1%\n",
        "high_threshold = 0.03  # 3%\n",
        "\n",
        "# Predict for the next day\n",
        "recent_data = scaled_data[-SEQ_LENGTH:]  # Recent data for prediction\n",
        "predicted_next_day = predict_next_days(model, recent_data)  # Predict for only one day\n",
        "\n",
        "# Reshape and inverse transform to get the actual price movement\n",
        "predicted_next_day_reshaped = np.zeros((1, scaled_data.shape[1]))\n",
        "predicted_next_day_reshaped[:, 0] = predicted_next_day[0]\n",
        "predicted_movement = scaler.inverse_transform(predicted_next_day_reshaped)[0, 0]\n",
        "\n",
        "# Categorize the movement and calculate percentage change\n",
        "last_close_price = daily_df['close'].iloc[-1]\n",
        "percentage_change = (predicted_movement / last_close_price) * 100\n",
        "\n",
        "if abs(percentage_change) < low_threshold:\n",
        "    movement_category = \"Low\"\n",
        "elif abs(percentage_change) < high_threshold:\n",
        "    movement_category = \"Medium\"\n",
        "else:\n",
        "    movement_category = \"High\"\n",
        "\n",
        "print(f\"Predicted Movement: {movement_category}\")\n",
        "print(f\"Percentage Change: {percentage_change:.2f}%\")\n",
        "\n",
        "if predicted_movement > 0:\n",
        "    print(\"Upside Movement\")\n",
        "else:\n",
        "    print(\"Downside Movement\")"
      ],
      "metadata": {
        "colab": {
          "base_uri": "https://localhost:8080/"
        },
        "id": "ZhyhdEgyGc0S",
        "outputId": "1c0e90f4-5168-4899-e705-a9a87e2059b5"
      },
      "execution_count": null,
      "outputs": [
        {
          "output_type": "stream",
          "name": "stdout",
          "text": [
            "\u001b[1m1/1\u001b[0m \u001b[32m━━━━━━━━━━━━━━━━━━━━\u001b[0m\u001b[37m\u001b[0m \u001b[1m0s\u001b[0m 489ms/step\n",
            "Predicted Movement: High\n",
            "Percentage Change: 99.27%\n",
            "Upside Movement\n"
          ]
        }
      ]
    }
  ]
}